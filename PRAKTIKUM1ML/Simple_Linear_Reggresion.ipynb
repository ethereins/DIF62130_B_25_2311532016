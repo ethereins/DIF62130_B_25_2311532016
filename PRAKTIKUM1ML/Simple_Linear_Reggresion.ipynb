{
  "nbformat": 4,
  "nbformat_minor": 0,
  "metadata": {
    "colab": {
      "provenance": [],
      "authorship_tag": "ABX9TyPbnCCPM9bzsFqKw71hf8+y",
      "include_colab_link": true
    },
    "kernelspec": {
      "name": "python3",
      "display_name": "Python 3"
    },
    "language_info": {
      "name": "python"
    }
  },
  "cells": [
    {
      "cell_type": "markdown",
      "metadata": {
        "id": "view-in-github",
        "colab_type": "text"
      },
      "source": [
        "<a href=\"https://colab.research.google.com/github/ethereins/DIF62130_B_25_2311532016/blob/main/PRAKTIKUM1ML/Simple_Linear_Reggresion.ipynb\" target=\"_parent\"><img src=\"https://colab.research.google.com/assets/colab-badge.svg\" alt=\"Open In Colab\"/></a>"
      ]
    },
    {
      "cell_type": "code",
      "execution_count": 3,
      "metadata": {
        "id": "Qx1_nIL2-wZl"
      },
      "outputs": [],
      "source": [
        "import pandas as pd"
      ]
    }
  ]
}